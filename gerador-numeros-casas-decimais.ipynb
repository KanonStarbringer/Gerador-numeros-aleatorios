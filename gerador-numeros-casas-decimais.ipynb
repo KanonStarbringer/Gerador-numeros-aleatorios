{
 "cells": [
  {
   "cell_type": "code",
   "execution_count": 2,
   "id": "98f79022",
   "metadata": {},
   "outputs": [
    {
     "name": "stdout",
     "output_type": "stream",
     "text": [
      "[0.21, 0.2, 0.15, 0.07, 0.05, 0.24, 0.08]\n",
      "1.0000000000000002\n"
     ]
    }
   ],
   "source": [
    "import random\n",
    "\n",
    "def generate_numbers():\n",
    "    numbers = []\n",
    "    remaining_sum = 1.0\n",
    "\n",
    "    for _ in range(6):\n",
    "        number = round(random.uniform(0, remaining_sum), 2)\n",
    "        numbers.append(number)\n",
    "        remaining_sum -= number\n",
    "\n",
    "    numbers.append(round(remaining_sum, 2))\n",
    "    return numbers\n",
    "\n",
    "# Exemplo de uso\n",
    "generated_numbers = generate_numbers()\n",
    "print(generated_numbers)\n",
    "print(sum(generated_numbers))"
   ]
  },
  {
   "cell_type": "code",
   "execution_count": null,
   "id": "63b205a0",
   "metadata": {},
   "outputs": [],
   "source": []
  }
 ],
 "metadata": {
  "kernelspec": {
   "display_name": "Python 3 (ipykernel)",
   "language": "python",
   "name": "python3"
  },
  "language_info": {
   "codemirror_mode": {
    "name": "ipython",
    "version": 3
   },
   "file_extension": ".py",
   "mimetype": "text/x-python",
   "name": "python",
   "nbconvert_exporter": "python",
   "pygments_lexer": "ipython3",
   "version": "3.10.11"
  }
 },
 "nbformat": 4,
 "nbformat_minor": 5
}
